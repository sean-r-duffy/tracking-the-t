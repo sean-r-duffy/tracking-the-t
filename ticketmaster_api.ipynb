{
 "cells": [
  {
   "cell_type": "code",
   "execution_count": 16,
   "metadata": {},
   "source": [
    "import requests as re\n",
    "\n",
    "with open('api_key.txt') as file:\n",
    "    api_key = file.read()"
   ],
   "outputs": []
  },
  {
   "cell_type": "code",
   "execution_count": 17,
   "metadata": {},
   "source": [
    "venue_search = \"TD Garden\""
   ],
   "outputs": []
  },
  {
   "cell_type": "code",
   "execution_count": 18,
   "metadata": {},
   "source": [
    "response = re.get(f\"https://app.ticketmaster.com/discovery/v2/venues.json?keyword={venue_search}&apikey={api_key}\").json()\n",
    "response"
   ],
   "outputs": []
  },
  {
   "cell_type": "code",
   "execution_count": 19,
   "metadata": {},
   "source": [
    "venue_id = response[\"_embedded\"][\"venues\"][0][\"id\"]"
   ],
   "outputs": []
  },
  {
   "cell_type": "code",
   "execution_count": 23,
   "metadata": {},
   "source": [
    "response = re.get(f\"https://app.ticketmaster.com/discovery/v2/events.json?venueId={venue_id}&apikey={api_key}\").json()\n",
    "response"
   ],
   "outputs": []
  },
  {
   "cell_type": "code",
   "execution_count": 24,
   "metadata": {},
   "source": [
    "for event in response[\"_embedded\"][\"events\"]:\n",
    "    print(f\"{event['name']}: {event['id']}\")"
   ],
   "outputs": []
  },
  {
   "cell_type": "code",
   "execution_count": 25,
   "metadata": {},
   "source": [
    "event_id = \"vv1AvZkebGkeEWU5W\""
   ],
   "outputs": []
  },
  {
   "cell_type": "code",
   "execution_count": 26,
   "metadata": {},
   "source": [
    "response = re.get(f\"https://app.ticketmaster.com/discovery/v2/events/{event_id}.json?apikey={api_key}\").json()\n",
    "response"
   ],
   "outputs": []
  },
  {
   "cell_type": "code",
   "execution_count": 27,
   "metadata": {},
   "source": [
    "event_datetime = response[\"dates\"][\"start\"][\"dateTime\"]\n",
    "event_datetime"
   ],
   "outputs": []
  }
 ],
 "metadata": {
  "kernelspec": {
   "display_name": "base",
   "language": "python",
   "name": "python3"
  },
  "language_info": {
   "codemirror_mode": {
    "name": "ipython",
    "version": 3
   },
   "file_extension": ".py",
   "mimetype": "text/x-python",
   "name": "python",
   "nbconvert_exporter": "python",
   "pygments_lexer": "ipython3",
   "version": "3.9.18"
  }
 },
 "nbformat": 4,
 "nbformat_minor": 2
}
