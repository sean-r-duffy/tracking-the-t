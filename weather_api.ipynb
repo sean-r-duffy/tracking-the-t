{
 "cells": [
  {
   "cell_type": "code",
   "execution_count": 11,
   "metadata": {},
   "source": [
    "import requests as re\n",
    "import pandas as pd"
   ],
   "outputs": []
  },
  {
   "cell_type": "code",
   "execution_count": 12,
   "metadata": {},
   "source": [
    "with open('api_key.txt') as file:\n",
    "    api_key = file.read()"
   ],
   "outputs": []
  },
  {
   "cell_type": "code",
   "execution_count": 29,
   "metadata": {},
   "source": [
    "def get_current_weather(lat, long, api_key):\n",
    "    url = f\"https://api.tomorrow.io/v4/weather/forecast?location={lat},{long}&apikey={api_key}\"\n",
    "    headers = {\"accept\": \"application/json\"}\n",
    "    response = re.get(url, headers=headers).json()\n",
    "    response_values = response[\"timelines\"][\"hourly\"][0][\"values\"]\n",
    "    needed_metrics = ['precipitationProbability', 'iceAccumulation', 'rainAccumulation', 'sleetAccumulation','snowAccumulation', 'snowDepth', 'temperature']\n",
    "    return {key: response_values[key] for key in needed_metrics if key in response_values}\n",
    "    "
   ],
   "outputs": []
  },
  {
   "cell_type": "code",
   "execution_count": 30,
   "metadata": {},
   "source": [
    "response = get_current_weather(\"42.365841\", \"-71.060724\", api_key)\n",
    "response"
   ],
   "outputs": []
  }
 ],
 "metadata": {
  "kernelspec": {
   "display_name": "base",
   "language": "python",
   "name": "python3"
  },
  "language_info": {
   "codemirror_mode": {
    "name": "ipython",
    "version": 3
   },
   "file_extension": ".py",
   "mimetype": "text/x-python",
   "name": "python",
   "nbconvert_exporter": "python",
   "pygments_lexer": "ipython3",
   "version": "3.9.18"
  }
 },
 "nbformat": 4,
 "nbformat_minor": 2
}
