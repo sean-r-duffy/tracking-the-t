{
 "cells": [
  {
   "cell_type": "code",
   "execution_count": 1,
   "id": "acd9feaf-f100-422d-9bd9-41451567b0dc",
   "metadata": {},
   "outputs": [
    {
     "name": "stderr",
     "output_type": "stream",
     "text": [
      "/Users/ncantalupa/opt/miniconda3/lib/python3.9/site-packages/scipy/__init__.py:138: UserWarning: A NumPy version >=1.16.5 and <1.23.0 is required for this version of SciPy (detected version 1.26.4)\n",
      "  warnings.warn(f\"A NumPy version >={np_minversion} and <{np_maxversion} is required for this version of \"\n"
     ]
    }
   ],
   "source": [
    "import matplotlib.pyplot as plt\n",
    "import seaborn as sns\n",
    "import numpy as np\n",
    "import pandas as pd\n",
    "import polars as pl\n",
    "import requests"
   ]
  },
  {
   "cell_type": "code",
   "execution_count": 75,
   "id": "8ca3d857",
   "metadata": {},
   "outputs": [],
   "source": [
    "from datetime import datetime"
   ]
  },
  {
   "cell_type": "code",
   "execution_count": 10,
   "id": "4e054769-7650-4fbe-aea0-97e5dbfb05cd",
   "metadata": {},
   "outputs": [],
   "source": [
    "predictions_url = 'https://api-v3.mbta.com/prediction'\n",
    "with open('api_key.txt') as file:\n",
    "    api_key = file.read()"
   ]
  },
  {
   "cell_type": "code",
   "execution_count": 11,
   "id": "7221022d-d41b-4d69-8761-bb2d5426a7b5",
   "metadata": {},
   "outputs": [
    {
     "name": "stdout",
     "output_type": "stream",
     "text": [
      "Stop ID: Red\n",
      "Stop ID: Mattapan\n",
      "Stop ID: Orange\n",
      "Stop ID: Green-B\n",
      "Stop ID: Green-C\n",
      "Stop ID: Green-D\n",
      "Stop ID: Green-E\n",
      "Stop ID: Blue\n",
      "Stop ID: 741\n",
      "Stop ID: 742\n",
      "Stop ID: 743\n",
      "Stop ID: 751\n",
      "Stop ID: 749\n",
      "Stop ID: 746\n",
      "Stop ID: CR-Fairmount\n",
      "Stop ID: CR-Fitchburg\n",
      "Stop ID: CR-Worcester\n",
      "Stop ID: CR-Franklin\n",
      "Stop ID: CR-Greenbush\n",
      "Stop ID: CR-Haverhill\n",
      "Stop ID: CR-Kingston\n",
      "Stop ID: CR-Lowell\n",
      "Stop ID: CR-Middleborough\n",
      "Stop ID: CR-Needham\n",
      "Stop ID: CR-Newburyport\n",
      "Stop ID: CR-Providence\n",
      "Stop ID: CR-Foxboro\n",
      "Stop ID: Boat-F4\n",
      "Stop ID: Boat-F1\n",
      "Stop ID: Boat-EastBoston\n",
      "Stop ID: Boat-Lynn\n",
      "Stop ID: Boat-F6\n",
      "Stop ID: 747\n",
      "Stop ID: 708\n",
      "Stop ID: 1\n",
      "Stop ID: 4\n",
      "Stop ID: 7\n",
      "Stop ID: 8\n",
      "Stop ID: 9\n",
      "Stop ID: 10\n",
      "Stop ID: 11\n",
      "Stop ID: 14\n",
      "Stop ID: 15\n",
      "Stop ID: 16\n",
      "Stop ID: 17\n",
      "Stop ID: 18\n",
      "Stop ID: 19\n",
      "Stop ID: 21\n",
      "Stop ID: 22\n",
      "Stop ID: 23\n",
      "Stop ID: 24\n",
      "Stop ID: 26\n",
      "Stop ID: 28\n",
      "Stop ID: 29\n",
      "Stop ID: 30\n",
      "Stop ID: 31\n",
      "Stop ID: 32\n",
      "Stop ID: 33\n",
      "Stop ID: 34\n",
      "Stop ID: 34E\n",
      "Stop ID: 35\n",
      "Stop ID: 36\n",
      "Stop ID: 37\n",
      "Stop ID: 38\n",
      "Stop ID: 39\n",
      "Stop ID: 40\n",
      "Stop ID: 41\n",
      "Stop ID: 42\n",
      "Stop ID: 43\n",
      "Stop ID: 44\n",
      "Stop ID: 45\n",
      "Stop ID: 47\n",
      "Stop ID: 50\n",
      "Stop ID: 51\n",
      "Stop ID: 52\n",
      "Stop ID: 55\n",
      "Stop ID: 57\n",
      "Stop ID: 59\n",
      "Stop ID: 60\n",
      "Stop ID: 61\n",
      "Stop ID: 62\n",
      "Stop ID: 627\n",
      "Stop ID: 64\n",
      "Stop ID: 65\n",
      "Stop ID: 66\n",
      "Stop ID: 67\n",
      "Stop ID: 68\n",
      "Stop ID: 69\n",
      "Stop ID: 70\n",
      "Stop ID: 71\n",
      "Stop ID: 73\n",
      "Stop ID: 74\n",
      "Stop ID: 75\n",
      "Stop ID: 76\n",
      "Stop ID: 77\n",
      "Stop ID: 78\n",
      "Stop ID: 80\n",
      "Stop ID: 83\n",
      "Stop ID: 85\n",
      "Stop ID: 86\n",
      "Stop ID: 87\n",
      "Stop ID: 88\n",
      "Stop ID: 89\n",
      "Stop ID: 90\n",
      "Stop ID: 91\n",
      "Stop ID: 92\n",
      "Stop ID: 93\n",
      "Stop ID: 94\n",
      "Stop ID: 95\n",
      "Stop ID: 96\n",
      "Stop ID: 97\n",
      "Stop ID: 99\n",
      "Stop ID: 100\n",
      "Stop ID: 101\n",
      "Stop ID: 104\n",
      "Stop ID: 105\n",
      "Stop ID: 106\n",
      "Stop ID: 108\n",
      "Stop ID: 109\n",
      "Stop ID: 110\n",
      "Stop ID: 111\n",
      "Stop ID: 112\n",
      "Stop ID: 114\n",
      "Stop ID: 116\n",
      "Stop ID: 117\n",
      "Stop ID: 119\n",
      "Stop ID: 120\n",
      "Stop ID: 121\n",
      "Stop ID: 131\n",
      "Stop ID: 132\n",
      "Stop ID: 134\n",
      "Stop ID: 137\n",
      "Stop ID: 171\n",
      "Stop ID: 201\n",
      "Stop ID: 202\n",
      "Stop ID: 210\n",
      "Stop ID: 211\n",
      "Stop ID: 215\n",
      "Stop ID: 216\n",
      "Stop ID: 217\n",
      "Stop ID: 220\n",
      "Stop ID: 222\n",
      "Stop ID: 225\n",
      "Stop ID: 226\n",
      "Stop ID: 230\n",
      "Stop ID: 236\n",
      "Stop ID: 238\n",
      "Stop ID: 240\n",
      "Stop ID: 245\n",
      "Stop ID: 350\n",
      "Stop ID: 351\n",
      "Stop ID: 354\n",
      "Stop ID: 411\n",
      "Stop ID: 424\n",
      "Stop ID: 426\n",
      "Stop ID: 428\n",
      "Stop ID: 429\n",
      "Stop ID: 430\n",
      "Stop ID: 435\n",
      "Stop ID: 436\n",
      "Stop ID: 439\n",
      "Stop ID: 441\n",
      "Stop ID: 442\n",
      "Stop ID: 450\n",
      "Stop ID: 451\n",
      "Stop ID: 455\n",
      "Stop ID: 456\n",
      "Stop ID: 501\n",
      "Stop ID: 504\n",
      "Stop ID: 505\n",
      "Stop ID: 553\n",
      "Stop ID: 554\n",
      "Stop ID: 556\n",
      "Stop ID: 558\n",
      "Stop ID: 712\n",
      "Stop ID: 713\n",
      "Stop ID: 714\n",
      "Stop ID: 716\n"
     ]
    }
   ],
   "source": [
    "routes = requests.get('https://api-v3.mbta.com/routes').json()\n",
    "for route in routes['data']:\n",
    "    route_id = route['id']\n",
    "    print(f'Stop ID: {route_id}')"
   ]
  },
  {
   "cell_type": "code",
   "execution_count": 12,
   "id": "72096d87-1154-4d1c-921b-dc39cfea72ff",
   "metadata": {},
   "outputs": [
    {
     "name": "stdout",
     "output_type": "stream",
     "text": [
      "Stop ID: place-river, Stop Name: Riverside\n",
      "Stop ID: place-woodl, Stop Name: Woodland\n",
      "Stop ID: place-waban, Stop Name: Waban\n",
      "Stop ID: place-eliot, Stop Name: Eliot\n",
      "Stop ID: place-newtn, Stop Name: Newton Highlands\n",
      "Stop ID: place-newto, Stop Name: Newton Centre\n",
      "Stop ID: place-chhil, Stop Name: Chestnut Hill\n",
      "Stop ID: place-rsmnl, Stop Name: Reservoir\n",
      "Stop ID: place-bcnfd, Stop Name: Beaconsfield\n",
      "Stop ID: place-brkhl, Stop Name: Brookline Hills\n",
      "Stop ID: place-bvmnl, Stop Name: Brookline Village\n",
      "Stop ID: place-longw, Stop Name: Longwood\n",
      "Stop ID: place-fenwy, Stop Name: Fenway\n",
      "Stop ID: place-kencl, Stop Name: Kenmore\n",
      "Stop ID: place-hymnl, Stop Name: Hynes Convention Center\n",
      "Stop ID: place-coecl, Stop Name: Copley\n",
      "Stop ID: place-armnl, Stop Name: Arlington\n",
      "Stop ID: place-boyls, Stop Name: Boylston\n",
      "Stop ID: place-pktrm, Stop Name: Park Street\n",
      "Stop ID: place-gover, Stop Name: Government Center\n",
      "Stop ID: place-haecl, Stop Name: Haymarket\n",
      "Stop ID: place-north, Stop Name: North Station\n",
      "Stop ID: place-spmnl, Stop Name: Science Park/West End\n",
      "Stop ID: place-lech, Stop Name: Lechmere\n",
      "Stop ID: place-unsqu, Stop Name: Union Square\n"
     ]
    }
   ],
   "source": [
    "stops = requests.get('https://api-v3.mbta.com/stops', params={'filter[route]': 'Green-D'}).json()\n",
    "for stop in stops['data']:\n",
    "    stop_id = stop['id']\n",
    "    stop_name = stop['attributes']['name']\n",
    "    print(f'Stop ID: {stop_id}, Stop Name: {stop_name}')"
   ]
  },
  {
   "cell_type": "code",
   "execution_count": 13,
   "id": "9da16e52-37ff-4a1a-8d55-60c30e7db295",
   "metadata": {},
   "outputs": [],
   "source": [
    "params1 = {'api_key': api_key,\n",
    "          'filter[stop]': 'place-gover'}"
   ]
  },
  {
   "cell_type": "code",
   "execution_count": 17,
   "id": "ff909829-02de-4e13-9b72-a80228c3aea0",
   "metadata": {},
   "outputs": [],
   "source": [
    "response1 = requests.get(f'https://api-v3.mbta.com/predictions?filter[stop]=place-gover&api_key={api_key}').json()"
   ]
  },
  {
   "cell_type": "code",
   "execution_count": 20,
   "id": "24150b95-5282-4e29-a182-117ac92a5401",
   "metadata": {},
   "outputs": [
    {
     "data": {
      "text/plain": [
       "{'attributes': {'arrival_time': None,\n",
       "  'arrival_uncertainty': None,\n",
       "  'departure_time': '2024-05-23T14:02:10-04:00',\n",
       "  'departure_uncertainty': 360,\n",
       "  'direction_id': 0,\n",
       "  'last_trip': False,\n",
       "  'revenue': 'REVENUE',\n",
       "  'schedule_relationship': None,\n",
       "  'status': None,\n",
       "  'stop_sequence': 40},\n",
       " 'id': 'prediction-61805336-70202-40',\n",
       " 'relationships': {'route': {'data': {'id': 'Green-B', 'type': 'route'}},\n",
       "  'stop': {'data': {'id': '70202', 'type': 'stop'}},\n",
       "  'trip': {'data': {'id': '61805336', 'type': 'trip'}},\n",
       "  'vehicle': {'data': {'id': 'G-10143', 'type': 'vehicle'}}},\n",
       " 'type': 'prediction'}"
      ]
     },
     "execution_count": 20,
     "metadata": {},
     "output_type": "execute_result"
    }
   ],
   "source": [
    "response1['data'][0]"
   ]
  },
  {
   "cell_type": "code",
   "execution_count": 51,
   "id": "a00197bb",
   "metadata": {},
   "outputs": [],
   "source": [
    "def make_csv(category):\n",
    "    response = requests.get(f'https://api-v3.mbta.com/{category}?api_key={api_key}').json()\n",
    "    data_dict = {}\n",
    "    for i in response['data']:\n",
    "        data_dict[i['id']] = i['attributes']\n",
    "    pd.DataFrame.from_dict(data_dict, orient='index').to_csv(f\"{category}.csv\")"
   ]
  },
  {
   "cell_type": "code",
   "execution_count": 52,
   "id": "92db402a",
   "metadata": {},
   "outputs": [],
   "source": [
    "make_csv(\"routes\")"
   ]
  },
  {
   "cell_type": "code",
   "execution_count": 53,
   "id": "f0cdf41a",
   "metadata": {},
   "outputs": [],
   "source": [
    "make_csv(\"stops\")"
   ]
  },
  {
   "cell_type": "code",
   "execution_count": 54,
   "id": "b5d5c373",
   "metadata": {},
   "outputs": [],
   "source": [
    "make_csv(\"vehicles\")"
   ]
  },
  {
   "cell_type": "code",
   "execution_count": 55,
   "id": "e2403ab0",
   "metadata": {},
   "outputs": [],
   "source": [
    "make_csv(\"lines\")"
   ]
  },
  {
   "cell_type": "code",
   "execution_count": 80,
   "id": "83cc0fc1",
   "metadata": {},
   "outputs": [],
   "source": [
    "def check_stop(stop_id):\n",
    "    response = requests.get(f'https://api-v3.mbta.com/predictions?filter[stop]={stop_id}&sort=arrival_time&api_key={api_key}').json()\n",
    "    for instance in response['data']:\n",
    "        vehicle_id = instance['relationships']['vehicle']['data']['id']\n",
    "        arrival_time = instance['attributes']['arrival_time']\n",
    "        arrival_time = datetime.fromisoformat(arrival_time).strftime(\"%I:%M %p\")\n",
    "        departure_time = instance['attributes']['departure_time']\n",
    "        departure_time = datetime.fromisoformat(departure_time).strftime(\"%I:%M %p\")\n",
    "        direction = instance['attributes']['direction_id']\n",
    "        route_id = instance['relationships']['route']['data']['id']\n",
    "        trip_id = instance['relationships']['trip']['data']['id']\n",
    "        print(f\"vehicle: {vehicle_id} || arrival: {arrival_time} || departure: {departure_time} || direction: {direction} || route: {route_id} || trip: {trip_id}\")"
   ]
  },
  {
   "cell_type": "code",
   "execution_count": 82,
   "id": "93d3aa4c",
   "metadata": {},
   "outputs": [
    {
     "name": "stdout",
     "output_type": "stream",
     "text": [
      "vehicle: G-10286 || arrival: 03:33 PM || departure: 03:34 PM || direction: 1 || route: Green-D || trip: 61805106\n",
      "vehicle: G-10096 || arrival: 03:33 PM || departure: 03:34 PM || direction: 0 || route: Green-C || trip: 61804273\n",
      "vehicle: G-10034 || arrival: 03:34 PM || departure: 03:35 PM || direction: 0 || route: Green-D || trip: 61805034\n",
      "vehicle: G-10109 || arrival: 03:36 PM || departure: 03:37 PM || direction: 1 || route: Green-B || trip: ADDED-1581915176\n",
      "vehicle: G-10285 || arrival: 03:36 PM || departure: 03:37 PM || direction: 1 || route: Green-C || trip: 61804279\n",
      "vehicle: G-10274 || arrival: 03:39 PM || departure: 03:40 PM || direction: 1 || route: Green-D || trip: 61804902\n",
      "vehicle: G-10012 || arrival: 03:39 PM || departure: 03:40 PM || direction: 0 || route: Green-B || trip: ADDED-1581915199\n",
      "vehicle: G-10266 || arrival: 03:41 PM || departure: 03:42 PM || direction: 1 || route: Green-C || trip: ADDED-1581915188\n",
      "vehicle: G-10231 || arrival: 03:42 PM || departure: 03:43 PM || direction: 0 || route: Green-C || trip: 61804270\n",
      "vehicle: G-10115 || arrival: 03:42 PM || departure: 03:43 PM || direction: 0 || route: Green-D || trip: 61805064\n",
      "vehicle: G-10075 || arrival: 03:46 PM || departure: 03:47 PM || direction: 1 || route: Green-C || trip: 61804507\n",
      "vehicle: G-10016 || arrival: 03:47 PM || departure: 03:48 PM || direction: 1 || route: Green-B || trip: 61805375\n",
      "vehicle: G-10232 || arrival: 03:51 PM || departure: 03:52 PM || direction: 0 || route: Green-B || trip: ADDED-1581915205\n",
      "vehicle: G-10200 || arrival: 03:51 PM || departure: 03:52 PM || direction: 0 || route: Green-D || trip: 61805078\n",
      "vehicle: G-10027 || arrival: 03:53 PM || departure: 03:54 PM || direction: 1 || route: Green-D || trip: 61804934\n",
      "vehicle: G-10117 || arrival: 03:53 PM || departure: 03:54 PM || direction: 1 || route: Green-B || trip: 61805363\n",
      "vehicle: G-10169 || arrival: 03:54 PM || departure: 03:54 PM || direction: 1 || route: Green-C || trip: 61804463\n",
      "vehicle: G-10301 || arrival: 03:54 PM || departure: 03:55 PM || direction: 0 || route: Green-B || trip: 61805243\n",
      "vehicle: G-10070 || arrival: 03:57 PM || departure: 03:58 PM || direction: 0 || route: Green-C || trip: 61804275\n",
      "vehicle: G-10280 || arrival: 04:01 PM || departure: 04:02 PM || direction: 1 || route: Green-D || trip: ADDED-1581915203\n",
      "vehicle: G-10285 || arrival: 04:03 PM || departure: 04:03 PM || direction: 0 || route: Green-C || trip: 61804277\n",
      "vehicle: G-10234 || arrival: 04:03 PM || departure: 04:03 PM || direction: 1 || route: Green-B || trip: 61805169\n",
      "vehicle: G-10109 || arrival: 04:03 PM || departure: 04:03 PM || direction: 0 || route: Green-B || trip: 61805131\n",
      "vehicle: G-10266 || arrival: 04:07 PM || departure: 04:08 PM || direction: 0 || route: Green-C || trip: 61804280\n",
      "vehicle: G-10242 || arrival: 04:10 PM || departure: 04:11 PM || direction: 1 || route: Green-D || trip: 61804951\n",
      "vehicle: G-10075 || arrival: 04:12 PM || departure: 04:13 PM || direction: 0 || route: Green-C || trip: 61804506\n",
      "vehicle: G-10016 || arrival: 04:14 PM || departure: 04:15 PM || direction: 0 || route: Green-B || trip: 61805376\n",
      "vehicle: G-10169 || arrival: 04:20 PM || departure: 04:21 PM || direction: 0 || route: Green-C || trip: 61804462\n",
      "vehicle: G-10117 || arrival: 04:20 PM || departure: 04:21 PM || direction: 0 || route: Green-B || trip: 61805362\n",
      "vehicle: G-10234 || arrival: 04:29 PM || departure: 04:30 PM || direction: 0 || route: Green-B || trip: 61805164\n"
     ]
    }
   ],
   "source": [
    "check_stop('place-hymnl')"
   ]
  },
  {
   "cell_type": "code",
   "execution_count": 73,
   "id": "51ab0416",
   "metadata": {},
   "outputs": [],
   "source": [
    "trip = requests.get('https://api-v3.mbta.com/trips/61804974').json()"
   ]
  },
  {
   "cell_type": "code",
   "execution_count": 74,
   "id": "3467d548",
   "metadata": {},
   "outputs": [
    {
     "data": {
      "text/plain": [
       "{'data': {'attributes': {'bikes_allowed': 2,\n",
       "   'block_id': 'B800-35',\n",
       "   'direction_id': 0,\n",
       "   'headsign': 'Riverside',\n",
       "   'name': '',\n",
       "   'revenue': 'REVENUE',\n",
       "   'wheelchair_accessible': 1},\n",
       "  'id': '61804974',\n",
       "  'links': {'self': '/trips/61804974'},\n",
       "  'relationships': {'route': {'data': {'id': 'Green-D', 'type': 'route'}},\n",
       "   'route_pattern': {'data': {'id': 'Green-D-855-0', 'type': 'route_pattern'}},\n",
       "   'service': {'data': {'id': 'SpringWeekday', 'type': 'service'}},\n",
       "   'shape': {'data': {'id': '8000008', 'type': 'shape'}}},\n",
       "  'type': 'trip'},\n",
       " 'jsonapi': {'version': '1.0'}}"
      ]
     },
     "execution_count": 74,
     "metadata": {},
     "output_type": "execute_result"
    }
   ],
   "source": [
    "trip"
   ]
  }
 ],
 "metadata": {
  "kernelspec": {
   "display_name": "Python 3 (ipykernel)",
   "language": "python",
   "name": "python3"
  },
  "language_info": {
   "codemirror_mode": {
    "name": "ipython",
    "version": 3
   },
   "file_extension": ".py",
   "mimetype": "text/x-python",
   "name": "python",
   "nbconvert_exporter": "python",
   "pygments_lexer": "ipython3",
   "version": "3.9.18"
  }
 },
 "nbformat": 4,
 "nbformat_minor": 5
}
